{
 "cells": [
  {
   "cell_type": "code",
   "execution_count": 1,
   "id": "049f92fc-81ac-4ec6-a02a-d7cc85056951",
   "metadata": {},
   "outputs": [],
   "source": [
    "import matplotlib.pyplot as plt\n",
    "import numpy as np\n",
    "import seaborn as sns\n",
    "sns.set_theme()"
   ]
  },
  {
   "cell_type": "code",
   "execution_count": 2,
   "id": "c5a8f3be-e42a-499a-986b-f0c85960f83e",
   "metadata": {},
   "outputs": [],
   "source": [
    "learning_dataset = {\n",
    "    \"宝贝当家\": [45, 2, 9, \"喜剧片\"],\n",
    "    \"美人鱼\": [21, 17, 5, \"喜剧片\"],\n",
    "    \"澳门风云3\": [54, 9, 11, \"喜剧片\"],\n",
    "    \"功夫熊猫3\": [39, 0, 31, \"喜剧片\"],\n",
    "    \"谍影重重\": [5, 2, 57, \"动作片\"],\n",
    "    \"叶问3\": [3, 2, 65, \"动作片\"],\n",
    "    \"伦敦陷落\": [2, 3, 55, \"动作片\"],\n",
    "    \"我的特工爷爷\": [6, 4, 21, \"动作片\"],\n",
    "    \"奔爱\": [7, 46, 4, \"爱情片\"],\n",
    "    \"夜孔雀\": [9, 39, 8, \"爱情片\"],\n",
    "    \"代理情人\": [9, 38, 2, \"爱情片\"],\n",
    "    \"新步步惊心\": [8, 34, 17, \"爱情片\"]\n",
    "}"
   ]
  },
  {
   "cell_type": "code",
   "execution_count": 3,
   "id": "ee211e61-ab25-48fd-baee-20623ca21966",
   "metadata": {},
   "outputs": [],
   "source": [
    "from sklearn.base import BaseEstimator, ClassifierMixin\n",
    "from sklearn.utils.validation import check_X_y, check_is_fitted, check_array\n",
    "\n",
    "class MyKNNClassfier(BaseEstimator, ClassifierMixin):\n",
    "    def __init__(self, *, k = 5):\n",
    "        self.k = k\n",
    "\n",
    "    def fit(self, X, y, **kwargs):\n",
    "        X, y = check_X_y(X, y)\n",
    "        self.X_train_ = X\n",
    "        self.y_train_ = y\n",
    "        return self\n",
    "\n",
    "    def predict(self, X):\n",
    "        check_is_fitted(self)\n",
    "        check_array(X)\n",
    "        \n",
    "        diff = np.tile(X[:, np.newaxis, :], (1, self.X_train_.shape[0], 1)) - self.X_train_\n",
    "        dis = np.sqrt(np.sum(diff ** 2, axis=2))\n",
    "\n",
    "        sorted_index = np.argsort(dis, axis=1)\n",
    "        first_k_y = self.y_train_[sorted_index[:, :self.k]]\n",
    "\n",
    "        return np.apply_along_axis(MyKNNClassfier.__find_most_frequent_element, 1, first_k_y)\n",
    "    \n",
    "    @staticmethod\n",
    "    def __find_most_frequent_element(arr):\n",
    "        unique_elements, counts = np.unique(arr, return_counts=True)\n",
    "        most_frequent = unique_elements[np.argmax(counts)]\n",
    "        return most_frequent"
   ]
  },
  {
   "cell_type": "code",
   "execution_count": 4,
   "id": "115f98bf-9f22-453f-8e93-a9073c6891fc",
   "metadata": {},
   "outputs": [],
   "source": [
    "movie_test_data = { \"老友记\": [29, 10, 2, \"？片\"] }\n",
    "movie_X_test = np.array([list(movie_test_data.values())[0][:3]])\n",
    "movie_X_train = np.array(list(map(lambda row: row[:3], learning_dataset.values())))\n",
    "movie_y_train = np.array(list(map(lambda row: row[3], learning_dataset.values())))"
   ]
  },
  {
   "cell_type": "code",
   "execution_count": 5,
   "id": "2c457464-bdce-4079-a9c1-272280f018d8",
   "metadata": {},
   "outputs": [
    {
     "data": {
      "text/html": [
       "<style>#sk-container-id-1 {color: black;}#sk-container-id-1 pre{padding: 0;}#sk-container-id-1 div.sk-toggleable {background-color: white;}#sk-container-id-1 label.sk-toggleable__label {cursor: pointer;display: block;width: 100%;margin-bottom: 0;padding: 0.3em;box-sizing: border-box;text-align: center;}#sk-container-id-1 label.sk-toggleable__label-arrow:before {content: \"▸\";float: left;margin-right: 0.25em;color: #696969;}#sk-container-id-1 label.sk-toggleable__label-arrow:hover:before {color: black;}#sk-container-id-1 div.sk-estimator:hover label.sk-toggleable__label-arrow:before {color: black;}#sk-container-id-1 div.sk-toggleable__content {max-height: 0;max-width: 0;overflow: hidden;text-align: left;background-color: #f0f8ff;}#sk-container-id-1 div.sk-toggleable__content pre {margin: 0.2em;color: black;border-radius: 0.25em;background-color: #f0f8ff;}#sk-container-id-1 input.sk-toggleable__control:checked~div.sk-toggleable__content {max-height: 200px;max-width: 100%;overflow: auto;}#sk-container-id-1 input.sk-toggleable__control:checked~label.sk-toggleable__label-arrow:before {content: \"▾\";}#sk-container-id-1 div.sk-estimator input.sk-toggleable__control:checked~label.sk-toggleable__label {background-color: #d4ebff;}#sk-container-id-1 div.sk-label input.sk-toggleable__control:checked~label.sk-toggleable__label {background-color: #d4ebff;}#sk-container-id-1 input.sk-hidden--visually {border: 0;clip: rect(1px 1px 1px 1px);clip: rect(1px, 1px, 1px, 1px);height: 1px;margin: -1px;overflow: hidden;padding: 0;position: absolute;width: 1px;}#sk-container-id-1 div.sk-estimator {font-family: monospace;background-color: #f0f8ff;border: 1px dotted black;border-radius: 0.25em;box-sizing: border-box;margin-bottom: 0.5em;}#sk-container-id-1 div.sk-estimator:hover {background-color: #d4ebff;}#sk-container-id-1 div.sk-parallel-item::after {content: \"\";width: 100%;border-bottom: 1px solid gray;flex-grow: 1;}#sk-container-id-1 div.sk-label:hover label.sk-toggleable__label {background-color: #d4ebff;}#sk-container-id-1 div.sk-serial::before {content: \"\";position: absolute;border-left: 1px solid gray;box-sizing: border-box;top: 0;bottom: 0;left: 50%;z-index: 0;}#sk-container-id-1 div.sk-serial {display: flex;flex-direction: column;align-items: center;background-color: white;padding-right: 0.2em;padding-left: 0.2em;position: relative;}#sk-container-id-1 div.sk-item {position: relative;z-index: 1;}#sk-container-id-1 div.sk-parallel {display: flex;align-items: stretch;justify-content: center;background-color: white;position: relative;}#sk-container-id-1 div.sk-item::before, #sk-container-id-1 div.sk-parallel-item::before {content: \"\";position: absolute;border-left: 1px solid gray;box-sizing: border-box;top: 0;bottom: 0;left: 50%;z-index: -1;}#sk-container-id-1 div.sk-parallel-item {display: flex;flex-direction: column;z-index: 1;position: relative;background-color: white;}#sk-container-id-1 div.sk-parallel-item:first-child::after {align-self: flex-end;width: 50%;}#sk-container-id-1 div.sk-parallel-item:last-child::after {align-self: flex-start;width: 50%;}#sk-container-id-1 div.sk-parallel-item:only-child::after {width: 0;}#sk-container-id-1 div.sk-dashed-wrapped {border: 1px dashed gray;margin: 0 0.4em 0.5em 0.4em;box-sizing: border-box;padding-bottom: 0.4em;background-color: white;}#sk-container-id-1 div.sk-label label {font-family: monospace;font-weight: bold;display: inline-block;line-height: 1.2em;}#sk-container-id-1 div.sk-label-container {text-align: center;}#sk-container-id-1 div.sk-container {/* jupyter's `normalize.less` sets `[hidden] { display: none; }` but bootstrap.min.css set `[hidden] { display: none !important; }` so we also need the `!important` here to be able to override the default hidden behavior on the sphinx rendered scikit-learn.org. See: https://github.com/scikit-learn/scikit-learn/issues/21755 */display: inline-block !important;position: relative;}#sk-container-id-1 div.sk-text-repr-fallback {display: none;}</style><div id=\"sk-container-id-1\" class=\"sk-top-container\"><div class=\"sk-text-repr-fallback\"><pre>Pipeline(steps=[(&#x27;normalize&#x27;,\n",
       "                 ColumnTransformer(transformers=[(&#x27;scale_1&#x27;, StandardScaler(),\n",
       "                                                  [0]),\n",
       "                                                 (&#x27;scale_2&#x27;, StandardScaler(),\n",
       "                                                  [1]),\n",
       "                                                 (&#x27;scale_3&#x27;, StandardScaler(),\n",
       "                                                  [2])])),\n",
       "                (&#x27;KNN&#x27;, MyKNNClassfier())])</pre><b>In a Jupyter environment, please rerun this cell to show the HTML representation or trust the notebook. <br />On GitHub, the HTML representation is unable to render, please try loading this page with nbviewer.org.</b></div><div class=\"sk-container\" hidden><div class=\"sk-item sk-dashed-wrapped\"><div class=\"sk-label-container\"><div class=\"sk-label sk-toggleable\"><input class=\"sk-toggleable__control sk-hidden--visually\" id=\"sk-estimator-id-1\" type=\"checkbox\" ><label for=\"sk-estimator-id-1\" class=\"sk-toggleable__label sk-toggleable__label-arrow\">Pipeline</label><div class=\"sk-toggleable__content\"><pre>Pipeline(steps=[(&#x27;normalize&#x27;,\n",
       "                 ColumnTransformer(transformers=[(&#x27;scale_1&#x27;, StandardScaler(),\n",
       "                                                  [0]),\n",
       "                                                 (&#x27;scale_2&#x27;, StandardScaler(),\n",
       "                                                  [1]),\n",
       "                                                 (&#x27;scale_3&#x27;, StandardScaler(),\n",
       "                                                  [2])])),\n",
       "                (&#x27;KNN&#x27;, MyKNNClassfier())])</pre></div></div></div><div class=\"sk-serial\"><div class=\"sk-item sk-dashed-wrapped\"><div class=\"sk-label-container\"><div class=\"sk-label sk-toggleable\"><input class=\"sk-toggleable__control sk-hidden--visually\" id=\"sk-estimator-id-2\" type=\"checkbox\" ><label for=\"sk-estimator-id-2\" class=\"sk-toggleable__label sk-toggleable__label-arrow\">normalize: ColumnTransformer</label><div class=\"sk-toggleable__content\"><pre>ColumnTransformer(transformers=[(&#x27;scale_1&#x27;, StandardScaler(), [0]),\n",
       "                                (&#x27;scale_2&#x27;, StandardScaler(), [1]),\n",
       "                                (&#x27;scale_3&#x27;, StandardScaler(), [2])])</pre></div></div></div><div class=\"sk-parallel\"><div class=\"sk-parallel-item\"><div class=\"sk-item\"><div class=\"sk-label-container\"><div class=\"sk-label sk-toggleable\"><input class=\"sk-toggleable__control sk-hidden--visually\" id=\"sk-estimator-id-3\" type=\"checkbox\" ><label for=\"sk-estimator-id-3\" class=\"sk-toggleable__label sk-toggleable__label-arrow\">scale_1</label><div class=\"sk-toggleable__content\"><pre>[0]</pre></div></div></div><div class=\"sk-serial\"><div class=\"sk-item\"><div class=\"sk-estimator sk-toggleable\"><input class=\"sk-toggleable__control sk-hidden--visually\" id=\"sk-estimator-id-4\" type=\"checkbox\" ><label for=\"sk-estimator-id-4\" class=\"sk-toggleable__label sk-toggleable__label-arrow\">StandardScaler</label><div class=\"sk-toggleable__content\"><pre>StandardScaler()</pre></div></div></div></div></div></div><div class=\"sk-parallel-item\"><div class=\"sk-item\"><div class=\"sk-label-container\"><div class=\"sk-label sk-toggleable\"><input class=\"sk-toggleable__control sk-hidden--visually\" id=\"sk-estimator-id-5\" type=\"checkbox\" ><label for=\"sk-estimator-id-5\" class=\"sk-toggleable__label sk-toggleable__label-arrow\">scale_2</label><div class=\"sk-toggleable__content\"><pre>[1]</pre></div></div></div><div class=\"sk-serial\"><div class=\"sk-item\"><div class=\"sk-estimator sk-toggleable\"><input class=\"sk-toggleable__control sk-hidden--visually\" id=\"sk-estimator-id-6\" type=\"checkbox\" ><label for=\"sk-estimator-id-6\" class=\"sk-toggleable__label sk-toggleable__label-arrow\">StandardScaler</label><div class=\"sk-toggleable__content\"><pre>StandardScaler()</pre></div></div></div></div></div></div><div class=\"sk-parallel-item\"><div class=\"sk-item\"><div class=\"sk-label-container\"><div class=\"sk-label sk-toggleable\"><input class=\"sk-toggleable__control sk-hidden--visually\" id=\"sk-estimator-id-7\" type=\"checkbox\" ><label for=\"sk-estimator-id-7\" class=\"sk-toggleable__label sk-toggleable__label-arrow\">scale_3</label><div class=\"sk-toggleable__content\"><pre>[2]</pre></div></div></div><div class=\"sk-serial\"><div class=\"sk-item\"><div class=\"sk-estimator sk-toggleable\"><input class=\"sk-toggleable__control sk-hidden--visually\" id=\"sk-estimator-id-8\" type=\"checkbox\" ><label for=\"sk-estimator-id-8\" class=\"sk-toggleable__label sk-toggleable__label-arrow\">StandardScaler</label><div class=\"sk-toggleable__content\"><pre>StandardScaler()</pre></div></div></div></div></div></div></div></div><div class=\"sk-item\"><div class=\"sk-estimator sk-toggleable\"><input class=\"sk-toggleable__control sk-hidden--visually\" id=\"sk-estimator-id-9\" type=\"checkbox\" ><label for=\"sk-estimator-id-9\" class=\"sk-toggleable__label sk-toggleable__label-arrow\">MyKNNClassfier</label><div class=\"sk-toggleable__content\"><pre>MyKNNClassfier()</pre></div></div></div></div></div></div></div>"
      ],
      "text/plain": [
       "Pipeline(steps=[('normalize',\n",
       "                 ColumnTransformer(transformers=[('scale_1', StandardScaler(),\n",
       "                                                  [0]),\n",
       "                                                 ('scale_2', StandardScaler(),\n",
       "                                                  [1]),\n",
       "                                                 ('scale_3', StandardScaler(),\n",
       "                                                  [2])])),\n",
       "                ('KNN', MyKNNClassfier())])"
      ]
     },
     "execution_count": 5,
     "metadata": {},
     "output_type": "execute_result"
    }
   ],
   "source": [
    "from sklearn.pipeline import Pipeline\n",
    "from sklearn.preprocessing import StandardScaler\n",
    "from sklearn.compose import ColumnTransformer\n",
    "\n",
    "movie_pipeline = Pipeline([\n",
    "    ('normalize', ColumnTransformer([\n",
    "        ('scale_1', StandardScaler(), [0]),\n",
    "        ('scale_2', StandardScaler(), [1]),\n",
    "        ('scale_3', StandardScaler(), [2]),\n",
    "    ])),\n",
    "    ('KNN', MyKNNClassfier(k=5))\n",
    "])\n",
    "\n",
    "movie_pipeline"
   ]
  },
  {
   "cell_type": "code",
   "execution_count": 6,
   "id": "8a703fd1-ba3c-4a24-8d57-177cce927905",
   "metadata": {},
   "outputs": [
    {
     "data": {
      "text/plain": [
       "array(['喜剧片'], dtype='<U3')"
      ]
     },
     "execution_count": 6,
     "metadata": {},
     "output_type": "execute_result"
    }
   ],
   "source": [
    "movie_pipeline.fit(movie_X_train, movie_y_train).predict(movie_X_test)"
   ]
  },
  {
   "cell_type": "code",
   "execution_count": 7,
   "id": "3455b8a8-4d7f-404b-80ee-b3c701fa3a75",
   "metadata": {},
   "outputs": [],
   "source": [
    "from sklearn.datasets import load_iris\n",
    "from sklearn.model_selection import train_test_split\n",
    "\n",
    "iris_dataset = load_iris()\n",
    "iris_X = iris_dataset.data\n",
    "iris_y = iris_dataset.target\n",
    "\n",
    "iris_X_train, iris_X_test, iris_y_train, iris_y_test = \\\n",
    "    train_test_split(iris_X, iris_y, test_size=0.2, random_state=0)"
   ]
  },
  {
   "cell_type": "code",
   "execution_count": 8,
   "id": "89214e9c-f8f0-4ee4-b140-86a91b30f1fc",
   "metadata": {},
   "outputs": [
    {
     "data": {
      "text/html": [
       "<style>#sk-container-id-2 {color: black;}#sk-container-id-2 pre{padding: 0;}#sk-container-id-2 div.sk-toggleable {background-color: white;}#sk-container-id-2 label.sk-toggleable__label {cursor: pointer;display: block;width: 100%;margin-bottom: 0;padding: 0.3em;box-sizing: border-box;text-align: center;}#sk-container-id-2 label.sk-toggleable__label-arrow:before {content: \"▸\";float: left;margin-right: 0.25em;color: #696969;}#sk-container-id-2 label.sk-toggleable__label-arrow:hover:before {color: black;}#sk-container-id-2 div.sk-estimator:hover label.sk-toggleable__label-arrow:before {color: black;}#sk-container-id-2 div.sk-toggleable__content {max-height: 0;max-width: 0;overflow: hidden;text-align: left;background-color: #f0f8ff;}#sk-container-id-2 div.sk-toggleable__content pre {margin: 0.2em;color: black;border-radius: 0.25em;background-color: #f0f8ff;}#sk-container-id-2 input.sk-toggleable__control:checked~div.sk-toggleable__content {max-height: 200px;max-width: 100%;overflow: auto;}#sk-container-id-2 input.sk-toggleable__control:checked~label.sk-toggleable__label-arrow:before {content: \"▾\";}#sk-container-id-2 div.sk-estimator input.sk-toggleable__control:checked~label.sk-toggleable__label {background-color: #d4ebff;}#sk-container-id-2 div.sk-label input.sk-toggleable__control:checked~label.sk-toggleable__label {background-color: #d4ebff;}#sk-container-id-2 input.sk-hidden--visually {border: 0;clip: rect(1px 1px 1px 1px);clip: rect(1px, 1px, 1px, 1px);height: 1px;margin: -1px;overflow: hidden;padding: 0;position: absolute;width: 1px;}#sk-container-id-2 div.sk-estimator {font-family: monospace;background-color: #f0f8ff;border: 1px dotted black;border-radius: 0.25em;box-sizing: border-box;margin-bottom: 0.5em;}#sk-container-id-2 div.sk-estimator:hover {background-color: #d4ebff;}#sk-container-id-2 div.sk-parallel-item::after {content: \"\";width: 100%;border-bottom: 1px solid gray;flex-grow: 1;}#sk-container-id-2 div.sk-label:hover label.sk-toggleable__label {background-color: #d4ebff;}#sk-container-id-2 div.sk-serial::before {content: \"\";position: absolute;border-left: 1px solid gray;box-sizing: border-box;top: 0;bottom: 0;left: 50%;z-index: 0;}#sk-container-id-2 div.sk-serial {display: flex;flex-direction: column;align-items: center;background-color: white;padding-right: 0.2em;padding-left: 0.2em;position: relative;}#sk-container-id-2 div.sk-item {position: relative;z-index: 1;}#sk-container-id-2 div.sk-parallel {display: flex;align-items: stretch;justify-content: center;background-color: white;position: relative;}#sk-container-id-2 div.sk-item::before, #sk-container-id-2 div.sk-parallel-item::before {content: \"\";position: absolute;border-left: 1px solid gray;box-sizing: border-box;top: 0;bottom: 0;left: 50%;z-index: -1;}#sk-container-id-2 div.sk-parallel-item {display: flex;flex-direction: column;z-index: 1;position: relative;background-color: white;}#sk-container-id-2 div.sk-parallel-item:first-child::after {align-self: flex-end;width: 50%;}#sk-container-id-2 div.sk-parallel-item:last-child::after {align-self: flex-start;width: 50%;}#sk-container-id-2 div.sk-parallel-item:only-child::after {width: 0;}#sk-container-id-2 div.sk-dashed-wrapped {border: 1px dashed gray;margin: 0 0.4em 0.5em 0.4em;box-sizing: border-box;padding-bottom: 0.4em;background-color: white;}#sk-container-id-2 div.sk-label label {font-family: monospace;font-weight: bold;display: inline-block;line-height: 1.2em;}#sk-container-id-2 div.sk-label-container {text-align: center;}#sk-container-id-2 div.sk-container {/* jupyter's `normalize.less` sets `[hidden] { display: none; }` but bootstrap.min.css set `[hidden] { display: none !important; }` so we also need the `!important` here to be able to override the default hidden behavior on the sphinx rendered scikit-learn.org. See: https://github.com/scikit-learn/scikit-learn/issues/21755 */display: inline-block !important;position: relative;}#sk-container-id-2 div.sk-text-repr-fallback {display: none;}</style><div id=\"sk-container-id-2\" class=\"sk-top-container\"><div class=\"sk-text-repr-fallback\"><pre>Pipeline(steps=[(&#x27;normalize&#x27;,\n",
       "                 ColumnTransformer(transformers=[(&#x27;scale_1&#x27;, StandardScaler(),\n",
       "                                                  [0]),\n",
       "                                                 (&#x27;scale_2&#x27;, StandardScaler(),\n",
       "                                                  [1]),\n",
       "                                                 (&#x27;scale_3&#x27;, StandardScaler(),\n",
       "                                                  [2])])),\n",
       "                (&#x27;KNN&#x27;, KNeighborsClassifier())])</pre><b>In a Jupyter environment, please rerun this cell to show the HTML representation or trust the notebook. <br />On GitHub, the HTML representation is unable to render, please try loading this page with nbviewer.org.</b></div><div class=\"sk-container\" hidden><div class=\"sk-item sk-dashed-wrapped\"><div class=\"sk-label-container\"><div class=\"sk-label sk-toggleable\"><input class=\"sk-toggleable__control sk-hidden--visually\" id=\"sk-estimator-id-10\" type=\"checkbox\" ><label for=\"sk-estimator-id-10\" class=\"sk-toggleable__label sk-toggleable__label-arrow\">Pipeline</label><div class=\"sk-toggleable__content\"><pre>Pipeline(steps=[(&#x27;normalize&#x27;,\n",
       "                 ColumnTransformer(transformers=[(&#x27;scale_1&#x27;, StandardScaler(),\n",
       "                                                  [0]),\n",
       "                                                 (&#x27;scale_2&#x27;, StandardScaler(),\n",
       "                                                  [1]),\n",
       "                                                 (&#x27;scale_3&#x27;, StandardScaler(),\n",
       "                                                  [2])])),\n",
       "                (&#x27;KNN&#x27;, KNeighborsClassifier())])</pre></div></div></div><div class=\"sk-serial\"><div class=\"sk-item sk-dashed-wrapped\"><div class=\"sk-label-container\"><div class=\"sk-label sk-toggleable\"><input class=\"sk-toggleable__control sk-hidden--visually\" id=\"sk-estimator-id-11\" type=\"checkbox\" ><label for=\"sk-estimator-id-11\" class=\"sk-toggleable__label sk-toggleable__label-arrow\">normalize: ColumnTransformer</label><div class=\"sk-toggleable__content\"><pre>ColumnTransformer(transformers=[(&#x27;scale_1&#x27;, StandardScaler(), [0]),\n",
       "                                (&#x27;scale_2&#x27;, StandardScaler(), [1]),\n",
       "                                (&#x27;scale_3&#x27;, StandardScaler(), [2])])</pre></div></div></div><div class=\"sk-parallel\"><div class=\"sk-parallel-item\"><div class=\"sk-item\"><div class=\"sk-label-container\"><div class=\"sk-label sk-toggleable\"><input class=\"sk-toggleable__control sk-hidden--visually\" id=\"sk-estimator-id-12\" type=\"checkbox\" ><label for=\"sk-estimator-id-12\" class=\"sk-toggleable__label sk-toggleable__label-arrow\">scale_1</label><div class=\"sk-toggleable__content\"><pre>[0]</pre></div></div></div><div class=\"sk-serial\"><div class=\"sk-item\"><div class=\"sk-estimator sk-toggleable\"><input class=\"sk-toggleable__control sk-hidden--visually\" id=\"sk-estimator-id-13\" type=\"checkbox\" ><label for=\"sk-estimator-id-13\" class=\"sk-toggleable__label sk-toggleable__label-arrow\">StandardScaler</label><div class=\"sk-toggleable__content\"><pre>StandardScaler()</pre></div></div></div></div></div></div><div class=\"sk-parallel-item\"><div class=\"sk-item\"><div class=\"sk-label-container\"><div class=\"sk-label sk-toggleable\"><input class=\"sk-toggleable__control sk-hidden--visually\" id=\"sk-estimator-id-14\" type=\"checkbox\" ><label for=\"sk-estimator-id-14\" class=\"sk-toggleable__label sk-toggleable__label-arrow\">scale_2</label><div class=\"sk-toggleable__content\"><pre>[1]</pre></div></div></div><div class=\"sk-serial\"><div class=\"sk-item\"><div class=\"sk-estimator sk-toggleable\"><input class=\"sk-toggleable__control sk-hidden--visually\" id=\"sk-estimator-id-15\" type=\"checkbox\" ><label for=\"sk-estimator-id-15\" class=\"sk-toggleable__label sk-toggleable__label-arrow\">StandardScaler</label><div class=\"sk-toggleable__content\"><pre>StandardScaler()</pre></div></div></div></div></div></div><div class=\"sk-parallel-item\"><div class=\"sk-item\"><div class=\"sk-label-container\"><div class=\"sk-label sk-toggleable\"><input class=\"sk-toggleable__control sk-hidden--visually\" id=\"sk-estimator-id-16\" type=\"checkbox\" ><label for=\"sk-estimator-id-16\" class=\"sk-toggleable__label sk-toggleable__label-arrow\">scale_3</label><div class=\"sk-toggleable__content\"><pre>[2]</pre></div></div></div><div class=\"sk-serial\"><div class=\"sk-item\"><div class=\"sk-estimator sk-toggleable\"><input class=\"sk-toggleable__control sk-hidden--visually\" id=\"sk-estimator-id-17\" type=\"checkbox\" ><label for=\"sk-estimator-id-17\" class=\"sk-toggleable__label sk-toggleable__label-arrow\">StandardScaler</label><div class=\"sk-toggleable__content\"><pre>StandardScaler()</pre></div></div></div></div></div></div></div></div><div class=\"sk-item\"><div class=\"sk-estimator sk-toggleable\"><input class=\"sk-toggleable__control sk-hidden--visually\" id=\"sk-estimator-id-18\" type=\"checkbox\" ><label for=\"sk-estimator-id-18\" class=\"sk-toggleable__label sk-toggleable__label-arrow\">KNeighborsClassifier</label><div class=\"sk-toggleable__content\"><pre>KNeighborsClassifier()</pre></div></div></div></div></div></div></div>"
      ],
      "text/plain": [
       "Pipeline(steps=[('normalize',\n",
       "                 ColumnTransformer(transformers=[('scale_1', StandardScaler(),\n",
       "                                                  [0]),\n",
       "                                                 ('scale_2', StandardScaler(),\n",
       "                                                  [1]),\n",
       "                                                 ('scale_3', StandardScaler(),\n",
       "                                                  [2])])),\n",
       "                ('KNN', KNeighborsClassifier())])"
      ]
     },
     "execution_count": 8,
     "metadata": {},
     "output_type": "execute_result"
    }
   ],
   "source": [
    "from sklearn.neighbors import KNeighborsClassifier\n",
    "\n",
    "iris_pipeline = Pipeline([\n",
    "    ('normalize', ColumnTransformer([\n",
    "        ('scale_1', StandardScaler(), [0]),\n",
    "        ('scale_2', StandardScaler(), [1]),\n",
    "        ('scale_3', StandardScaler(), [2]),\n",
    "    ])),\n",
    "    ('KNN', KNeighborsClassifier(n_neighbors=5))\n",
    "])\n",
    "iris_pipeline"
   ]
  },
  {
   "cell_type": "code",
   "execution_count": 9,
   "id": "891f4317-e135-46cd-b14a-754bd70b4da2",
   "metadata": {},
   "outputs": [
    {
     "data": {
      "text/plain": [
       "0.8666666666666667"
      ]
     },
     "execution_count": 9,
     "metadata": {},
     "output_type": "execute_result"
    }
   ],
   "source": [
    "iris_pipeline.fit(iris_X_train, iris_y_train).score(iris_X_test, iris_y_test)"
   ]
  },
  {
   "cell_type": "code",
   "execution_count": 10,
   "id": "72d8c123-a871-4139-afc6-02b60ca85d9f",
   "metadata": {},
   "outputs": [
    {
     "data": {
      "text/plain": [
       "['setosa', 'versicolor']"
      ]
     },
     "execution_count": 10,
     "metadata": {},
     "output_type": "execute_result"
    }
   ],
   "source": [
    "iris_X_predict = [\n",
    "    [1.5 , 3 , 5.8 , 2.2],\n",
    "    [6.2 , 2.9 , 4.3 , 1.3],\n",
    "]\n",
    "\n",
    "list(map(lambda x: iris_dataset.target_names[x], iris_pipeline.predict(iris_X_predict)))"
   ]
  },
  {
   "cell_type": "code",
   "execution_count": 11,
   "id": "d48cbac5-bb19-4ecd-8e05-9ce7b768f135",
   "metadata": {},
   "outputs": [
    {
     "data": {
      "image/png": "[encoded data removed]",
      "text/plain": [
       "<Figure size 640x480 with 1 Axes>"
      ]
     },
     "metadata": {},
     "output_type": "display_data"
    }
   ],
   "source": [
    "from sklearn.model_selection import cross_val_score\n",
    "\n",
    "n_neighbors = np.arange(5, 10)\n",
    "\n",
    "def calculate_score(n):\n",
    "    return np.mean(cross_val_score(Pipeline([\n",
    "        ('normalize', ColumnTransformer([\n",
    "            ('scale_1', StandardScaler(), [0]),\n",
    "            ('scale_2', StandardScaler(), [1]),\n",
    "            ('scale_3', StandardScaler(), [2]),\n",
    "        ])),\n",
    "        ('KNN', KNeighborsClassifier(n_neighbors=n))\n",
    "    ]), iris_X, iris_y, cv=10))\n",
    "\n",
    "v_calculate_score = np.vectorize(calculate_score)\n",
    "plt.plot(n_neighbors, v_calculate_score(n_neighbors))\n",
    "plt.show()"
   ]
  },
  {
   "cell_type": "code",
   "execution_count": 12,
   "id": "644205d3-7427-4794-95a8-c81813223d42",
   "metadata": {},
   "outputs": [
    {
     "data": {
      "text/plain": [
       "['setosa', 'versicolor']"
      ]
     },
     "execution_count": 12,
     "metadata": {},
     "output_type": "execute_result"
    }
   ],
   "source": [
    "tuned_model = Pipeline([\n",
    "    ('normalize', ColumnTransformer([\n",
    "        ('scale_1', StandardScaler(), [0]),\n",
    "        ('scale_2', StandardScaler(), [1]),\n",
    "        ('scale_3', StandardScaler(), [2]),\n",
    "    ])),\n",
    "    ('KNN', KNeighborsClassifier(n_neighbors=6))\n",
    "])\n",
    "\n",
    "tuned_model.fit(iris_X_train, iris_y_train)\n",
    "list(map(lambda x: iris_dataset.target_names[x], tuned_model.predict(iris_X_predict)))"
   ]
  }
 ],
 "metadata": {
  "kernelspec": {
   "display_name": "Python 3 (ipykernel)",
   "language": "python",
   "name": "python3"
  },
  "language_info": {
   "codemirror_mode": {
    "name": "ipython",
    "version": 3
   },
   "file_extension": ".py",
   "mimetype": "text/x-python",
   "name": "python",
   "nbconvert_exporter": "python",
   "pygments_lexer": "ipython3",
   "version": "3.12.0"
  }
 },
 "nbformat": 4,
 "nbformat_minor": 5
}
